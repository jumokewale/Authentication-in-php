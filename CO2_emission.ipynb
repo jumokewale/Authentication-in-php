{
  "nbformat": 4,
  "nbformat_minor": 0,
  "metadata": {
    "kernelspec": {
      "display_name": "Python 3",
      "language": "python",
      "name": "python3"
    },
    "language_info": {
      "codemirror_mode": {
        "name": "ipython",
        "version": 3
      },
      "file_extension": ".py",
      "mimetype": "text/x-python",
      "name": "python",
      "nbconvert_exporter": "python",
      "pygments_lexer": "ipython3",
      "version": "3.8.5"
    },
    "colab": {
      "name": "CO2_emission.ipynb",
      "provenance": [],
      "include_colab_link": true
    }
  },
  "cells": [
    {
      "cell_type": "markdown",
      "metadata": {
        "id": "view-in-github",
        "colab_type": "text"
      },
      "source": [
        "<a href=\"https://colab.research.google.com/github/jumokewale/Authentication-in-php/blob/master/CO2_emission.ipynb\" target=\"_parent\"><img src=\"https://colab.research.google.com/assets/colab-badge.svg\" alt=\"Open In Colab\"/></a>"
      ]
    },
    {
      "cell_type": "code",
      "metadata": {
        "id": "S5-Rj3w3fEDM"
      },
      "source": [
        "import numpy as np\n",
        "import pandas as pd\n",
        "import matplotlib.pyplot as plt\n",
        "import seaborn as sns\n",
        "%matplotlib inline"
      ],
      "execution_count": null,
      "outputs": []
    },
    {
      "cell_type": "code",
      "metadata": {
        "id": "CAVFwJTQfEDQ"
      },
      "source": [
        "df = pd.read_excel(\"datasets/emission_annual.xls\")"
      ],
      "execution_count": null,
      "outputs": []
    },
    {
      "cell_type": "code",
      "metadata": {
        "id": "-F_gBnmqfEDR",
        "outputId": "07799c03-37a0-4f9a-a225-5a28b1940760"
      },
      "source": [
        "df.head()"
      ],
      "execution_count": null,
      "outputs": [
        {
          "data": {
            "text/html": [
              "<div>\n",
              "<style scoped>\n",
              "    .dataframe tbody tr th:only-of-type {\n",
              "        vertical-align: middle;\n",
              "    }\n",
              "\n",
              "    .dataframe tbody tr th {\n",
              "        vertical-align: top;\n",
              "    }\n",
              "\n",
              "    .dataframe thead th {\n",
              "        text-align: right;\n",
              "    }\n",
              "</style>\n",
              "<table border=\"1\" class=\"dataframe\">\n",
              "  <thead>\n",
              "    <tr style=\"text-align: right;\">\n",
              "      <th></th>\n",
              "      <th>Year</th>\n",
              "      <th>State</th>\n",
              "      <th>Producer Type</th>\n",
              "      <th>Energy Source</th>\n",
              "      <th>CO2\\n(Metric Tons)</th>\n",
              "      <th>SO2\\n(Metric Tons)</th>\n",
              "      <th>NOx\\n(Metric Tons)</th>\n",
              "    </tr>\n",
              "  </thead>\n",
              "  <tbody>\n",
              "    <tr>\n",
              "      <th>0</th>\n",
              "      <td>1990</td>\n",
              "      <td>AK</td>\n",
              "      <td>Commercial Cogen</td>\n",
              "      <td>All Sources</td>\n",
              "      <td>824004</td>\n",
              "      <td>13198</td>\n",
              "      <td>3011</td>\n",
              "    </tr>\n",
              "    <tr>\n",
              "      <th>1</th>\n",
              "      <td>1990</td>\n",
              "      <td>AK</td>\n",
              "      <td>Commercial Cogen</td>\n",
              "      <td>Coal</td>\n",
              "      <td>821929</td>\n",
              "      <td>13191</td>\n",
              "      <td>3009</td>\n",
              "    </tr>\n",
              "    <tr>\n",
              "      <th>2</th>\n",
              "      <td>1990</td>\n",
              "      <td>AK</td>\n",
              "      <td>Commercial Cogen</td>\n",
              "      <td>Petroleum</td>\n",
              "      <td>2075</td>\n",
              "      <td>6</td>\n",
              "      <td>2</td>\n",
              "    </tr>\n",
              "    <tr>\n",
              "      <th>3</th>\n",
              "      <td>1990</td>\n",
              "      <td>AK</td>\n",
              "      <td>Commercial Non-Cogen</td>\n",
              "      <td>All Sources</td>\n",
              "      <td>0</td>\n",
              "      <td>149</td>\n",
              "      <td>42</td>\n",
              "    </tr>\n",
              "    <tr>\n",
              "      <th>4</th>\n",
              "      <td>1990</td>\n",
              "      <td>AK</td>\n",
              "      <td>Commercial Non-Cogen</td>\n",
              "      <td>Petroleum</td>\n",
              "      <td>0</td>\n",
              "      <td>149</td>\n",
              "      <td>42</td>\n",
              "    </tr>\n",
              "  </tbody>\n",
              "</table>\n",
              "</div>"
            ],
            "text/plain": [
              "   Year State         Producer Type Energy Source  CO2\\n(Metric Tons)  \\\n",
              "0  1990    AK      Commercial Cogen   All Sources              824004   \n",
              "1  1990    AK      Commercial Cogen          Coal              821929   \n",
              "2  1990    AK      Commercial Cogen     Petroleum                2075   \n",
              "3  1990    AK  Commercial Non-Cogen   All Sources                   0   \n",
              "4  1990    AK  Commercial Non-Cogen     Petroleum                   0   \n",
              "\n",
              "   SO2\\n(Metric Tons)  NOx\\n(Metric Tons)  \n",
              "0               13198                3011  \n",
              "1               13191                3009  \n",
              "2                   6                   2  \n",
              "3                 149                  42  \n",
              "4                 149                  42  "
            ]
          },
          "execution_count": 3,
          "metadata": {},
          "output_type": "execute_result"
        }
      ]
    },
    {
      "cell_type": "code",
      "metadata": {
        "id": "pYpNn_QRfEDT",
        "outputId": "0af27532-a04b-4978-c119-a23f7bdef9d7"
      },
      "source": [
        "df.shape"
      ],
      "execution_count": null,
      "outputs": [
        {
          "data": {
            "text/plain": [
              "(43258, 7)"
            ]
          },
          "execution_count": 4,
          "metadata": {},
          "output_type": "execute_result"
        }
      ]
    },
    {
      "cell_type": "code",
      "metadata": {
        "id": "9Tu6V-8rfEDU",
        "outputId": "5bf08461-643a-48ca-ced1-b63309bdc8fb"
      },
      "source": [
        "df.columns"
      ],
      "execution_count": null,
      "outputs": [
        {
          "data": {
            "text/plain": [
              "Index(['Year', 'State', 'Producer Type', 'Energy Source', 'CO2\\n(Metric Tons)',\n",
              "       'SO2\\n(Metric Tons)', 'NOx\\n(Metric Tons)'],\n",
              "      dtype='object')"
            ]
          },
          "execution_count": 5,
          "metadata": {},
          "output_type": "execute_result"
        }
      ]
    },
    {
      "cell_type": "code",
      "metadata": {
        "id": "NpPmpw1jfEDV",
        "outputId": "c977f498-9a19-46eb-b7c2-623d70375882"
      },
      "source": [
        "df.info()"
      ],
      "execution_count": null,
      "outputs": [
        {
          "name": "stdout",
          "output_type": "stream",
          "text": [
            "<class 'pandas.core.frame.DataFrame'>\n",
            "RangeIndex: 43258 entries, 0 to 43257\n",
            "Data columns (total 7 columns):\n",
            " #   Column             Non-Null Count  Dtype \n",
            "---  ------             --------------  ----- \n",
            " 0   Year               43258 non-null  int64 \n",
            " 1   State              43258 non-null  object\n",
            " 2   Producer Type      43258 non-null  object\n",
            " 3   Energy Source      43258 non-null  object\n",
            " 4   CO2\n",
            "(Metric Tons)  43258 non-null  int64 \n",
            " 5   SO2\n",
            "(Metric Tons)  43258 non-null  int64 \n",
            " 6   NOx\n",
            "(Metric Tons)  43258 non-null  int64 \n",
            "dtypes: int64(4), object(3)\n",
            "memory usage: 2.3+ MB\n"
          ]
        }
      ]
    },
    {
      "cell_type": "code",
      "metadata": {
        "id": "GbSUIzk5fEDV",
        "outputId": "e9862847-5bbc-48a1-ed08-6b69561ab631"
      },
      "source": [
        "df.describe()"
      ],
      "execution_count": null,
      "outputs": [
        {
          "data": {
            "text/html": [
              "<div>\n",
              "<style scoped>\n",
              "    .dataframe tbody tr th:only-of-type {\n",
              "        vertical-align: middle;\n",
              "    }\n",
              "\n",
              "    .dataframe tbody tr th {\n",
              "        vertical-align: top;\n",
              "    }\n",
              "\n",
              "    .dataframe thead th {\n",
              "        text-align: right;\n",
              "    }\n",
              "</style>\n",
              "<table border=\"1\" class=\"dataframe\">\n",
              "  <thead>\n",
              "    <tr style=\"text-align: right;\">\n",
              "      <th></th>\n",
              "      <th>Year</th>\n",
              "      <th>CO2\\n(Metric Tons)</th>\n",
              "      <th>SO2\\n(Metric Tons)</th>\n",
              "      <th>NOx\\n(Metric Tons)</th>\n",
              "    </tr>\n",
              "  </thead>\n",
              "  <tbody>\n",
              "    <tr>\n",
              "      <th>count</th>\n",
              "      <td>43258.000000</td>\n",
              "      <td>4.325800e+04</td>\n",
              "      <td>4.325800e+04</td>\n",
              "      <td>4.325800e+04</td>\n",
              "    </tr>\n",
              "    <tr>\n",
              "      <th>mean</th>\n",
              "      <td>2005.216446</td>\n",
              "      <td>1.229009e+07</td>\n",
              "      <td>4.953446e+04</td>\n",
              "      <td>2.444354e+04</td>\n",
              "    </tr>\n",
              "    <tr>\n",
              "      <th>std</th>\n",
              "      <td>8.411532</td>\n",
              "      <td>9.703652e+07</td>\n",
              "      <td>4.839906e+05</td>\n",
              "      <td>2.285423e+05</td>\n",
              "    </tr>\n",
              "    <tr>\n",
              "      <th>min</th>\n",
              "      <td>1990.000000</td>\n",
              "      <td>-1.200000e+01</td>\n",
              "      <td>0.000000e+00</td>\n",
              "      <td>0.000000e+00</td>\n",
              "    </tr>\n",
              "    <tr>\n",
              "      <th>25%</th>\n",
              "      <td>1998.000000</td>\n",
              "      <td>2.580000e+02</td>\n",
              "      <td>1.000000e+00</td>\n",
              "      <td>8.200000e+01</td>\n",
              "    </tr>\n",
              "    <tr>\n",
              "      <th>50%</th>\n",
              "      <td>2005.000000</td>\n",
              "      <td>1.282880e+05</td>\n",
              "      <td>4.200000e+01</td>\n",
              "      <td>6.320000e+02</td>\n",
              "    </tr>\n",
              "    <tr>\n",
              "      <th>75%</th>\n",
              "      <td>2013.000000</td>\n",
              "      <td>1.825211e+06</td>\n",
              "      <td>3.292000e+03</td>\n",
              "      <td>4.074750e+03</td>\n",
              "    </tr>\n",
              "    <tr>\n",
              "      <th>max</th>\n",
              "      <td>2019.000000</td>\n",
              "      <td>2.547032e+09</td>\n",
              "      <td>1.546152e+07</td>\n",
              "      <td>7.996658e+06</td>\n",
              "    </tr>\n",
              "  </tbody>\n",
              "</table>\n",
              "</div>"
            ],
            "text/plain": [
              "               Year  CO2\\n(Metric Tons)  SO2\\n(Metric Tons)  \\\n",
              "count  43258.000000        4.325800e+04        4.325800e+04   \n",
              "mean    2005.216446        1.229009e+07        4.953446e+04   \n",
              "std        8.411532        9.703652e+07        4.839906e+05   \n",
              "min     1990.000000       -1.200000e+01        0.000000e+00   \n",
              "25%     1998.000000        2.580000e+02        1.000000e+00   \n",
              "50%     2005.000000        1.282880e+05        4.200000e+01   \n",
              "75%     2013.000000        1.825211e+06        3.292000e+03   \n",
              "max     2019.000000        2.547032e+09        1.546152e+07   \n",
              "\n",
              "       NOx\\n(Metric Tons)  \n",
              "count        4.325800e+04  \n",
              "mean         2.444354e+04  \n",
              "std          2.285423e+05  \n",
              "min          0.000000e+00  \n",
              "25%          8.200000e+01  \n",
              "50%          6.320000e+02  \n",
              "75%          4.074750e+03  \n",
              "max          7.996658e+06  "
            ]
          },
          "execution_count": 7,
          "metadata": {},
          "output_type": "execute_result"
        }
      ]
    },
    {
      "cell_type": "code",
      "metadata": {
        "id": "1XkpEsVpfEDV",
        "outputId": "a4fdf812-e517-4d77-8be0-3c781f34492c"
      },
      "source": [
        "df.corr()"
      ],
      "execution_count": null,
      "outputs": [
        {
          "data": {
            "text/html": [
              "<div>\n",
              "<style scoped>\n",
              "    .dataframe tbody tr th:only-of-type {\n",
              "        vertical-align: middle;\n",
              "    }\n",
              "\n",
              "    .dataframe tbody tr th {\n",
              "        vertical-align: top;\n",
              "    }\n",
              "\n",
              "    .dataframe thead th {\n",
              "        text-align: right;\n",
              "    }\n",
              "</style>\n",
              "<table border=\"1\" class=\"dataframe\">\n",
              "  <thead>\n",
              "    <tr style=\"text-align: right;\">\n",
              "      <th></th>\n",
              "      <th>Year</th>\n",
              "      <th>CO2\\n(Metric Tons)</th>\n",
              "      <th>SO2\\n(Metric Tons)</th>\n",
              "      <th>NOx\\n(Metric Tons)</th>\n",
              "    </tr>\n",
              "  </thead>\n",
              "  <tbody>\n",
              "    <tr>\n",
              "      <th>Year</th>\n",
              "      <td>1.000000</td>\n",
              "      <td>-0.012791</td>\n",
              "      <td>-0.063881</td>\n",
              "      <td>-0.064727</td>\n",
              "    </tr>\n",
              "    <tr>\n",
              "      <th>CO2\\n(Metric Tons)</th>\n",
              "      <td>-0.012791</td>\n",
              "      <td>1.000000</td>\n",
              "      <td>0.882144</td>\n",
              "      <td>0.876682</td>\n",
              "    </tr>\n",
              "    <tr>\n",
              "      <th>SO2\\n(Metric Tons)</th>\n",
              "      <td>-0.063881</td>\n",
              "      <td>0.882144</td>\n",
              "      <td>1.000000</td>\n",
              "      <td>0.985101</td>\n",
              "    </tr>\n",
              "    <tr>\n",
              "      <th>NOx\\n(Metric Tons)</th>\n",
              "      <td>-0.064727</td>\n",
              "      <td>0.876682</td>\n",
              "      <td>0.985101</td>\n",
              "      <td>1.000000</td>\n",
              "    </tr>\n",
              "  </tbody>\n",
              "</table>\n",
              "</div>"
            ],
            "text/plain": [
              "                        Year  CO2\\n(Metric Tons)  SO2\\n(Metric Tons)  \\\n",
              "Year                1.000000           -0.012791           -0.063881   \n",
              "CO2\\n(Metric Tons) -0.012791            1.000000            0.882144   \n",
              "SO2\\n(Metric Tons) -0.063881            0.882144            1.000000   \n",
              "NOx\\n(Metric Tons) -0.064727            0.876682            0.985101   \n",
              "\n",
              "                    NOx\\n(Metric Tons)  \n",
              "Year                         -0.064727  \n",
              "CO2\\n(Metric Tons)            0.876682  \n",
              "SO2\\n(Metric Tons)            0.985101  \n",
              "NOx\\n(Metric Tons)            1.000000  "
            ]
          },
          "execution_count": 8,
          "metadata": {},
          "output_type": "execute_result"
        }
      ]
    },
    {
      "cell_type": "code",
      "metadata": {
        "id": "O6GsnVk-fEDW",
        "outputId": "f8b9c4d9-6a94-4570-b9fe-68088105ba9f"
      },
      "source": [
        "df.isna().sum()"
      ],
      "execution_count": null,
      "outputs": [
        {
          "data": {
            "text/plain": [
              "Year                  0\n",
              "State                 0\n",
              "Producer Type         0\n",
              "Energy Source         0\n",
              "CO2\\n(Metric Tons)    0\n",
              "SO2\\n(Metric Tons)    0\n",
              "NOx\\n(Metric Tons)    0\n",
              "dtype: int64"
            ]
          },
          "execution_count": 9,
          "metadata": {},
          "output_type": "execute_result"
        }
      ]
    },
    {
      "cell_type": "code",
      "metadata": {
        "id": "rAaehoKFfEDW",
        "outputId": "8ebbf301-0803-40cc-eb96-2bfd5ddfcb54"
      },
      "source": [
        "for label, content in df.items():\n",
        "    if pd.api.types.is_string_dtype(content):\n",
        "        print(label)"
      ],
      "execution_count": null,
      "outputs": [
        {
          "name": "stdout",
          "output_type": "stream",
          "text": [
            "State\n",
            "Producer Type\n",
            "Energy Source\n"
          ]
        }
      ]
    },
    {
      "cell_type": "code",
      "metadata": {
        "id": "KY44a-wLfEDX",
        "outputId": "d8c515dc-a878-4961-81ff-0f11a3ade6dc"
      },
      "source": [
        "plt.style.available"
      ],
      "execution_count": null,
      "outputs": [
        {
          "data": {
            "text/plain": [
              "['Solarize_Light2',\n",
              " '_classic_test_patch',\n",
              " 'bmh',\n",
              " 'classic',\n",
              " 'dark_background',\n",
              " 'fast',\n",
              " 'fivethirtyeight',\n",
              " 'ggplot',\n",
              " 'grayscale',\n",
              " 'seaborn',\n",
              " 'seaborn-bright',\n",
              " 'seaborn-colorblind',\n",
              " 'seaborn-dark',\n",
              " 'seaborn-dark-palette',\n",
              " 'seaborn-darkgrid',\n",
              " 'seaborn-deep',\n",
              " 'seaborn-muted',\n",
              " 'seaborn-notebook',\n",
              " 'seaborn-paper',\n",
              " 'seaborn-pastel',\n",
              " 'seaborn-poster',\n",
              " 'seaborn-talk',\n",
              " 'seaborn-ticks',\n",
              " 'seaborn-white',\n",
              " 'seaborn-whitegrid',\n",
              " 'tableau-colorblind10']"
            ]
          },
          "execution_count": 11,
          "metadata": {},
          "output_type": "execute_result"
        }
      ]
    },
    {
      "cell_type": "code",
      "metadata": {
        "id": "7sIAubpxfEDX"
      },
      "source": [
        "plt.style.use(\"seaborn-white\")"
      ],
      "execution_count": null,
      "outputs": []
    },
    {
      "cell_type": "code",
      "metadata": {
        "id": "Nz7ONeClfEDX",
        "outputId": "f7eba490-c458-4966-cf6a-0b1a4087c39b"
      },
      "source": [
        "sns.regplot(x=df['Year'], y =df[\"CO2\\n(Metric Tons)\"], data= df.columns);"
      ],
      "execution_count": null,
      "outputs": [
        {
          "data": {
            "image/png": "[encoded data removed]",
            "text/plain": [
              "<Figure size 432x288 with 1 Axes>"
            ]
          },
          "metadata": {},
          "output_type": "display_data"
        }
      ]
    },
    {
      "cell_type": "markdown",
      "metadata": {
        "id": "iPO9uES2fEDY"
      },
      "source": [
        "### Data pre-processing"
      ]
    },
    {
      "cell_type": "markdown",
      "metadata": {
        "id": "Kg2xz8kdfEDa"
      },
      "source": [
        "Change Categorical columns to numerical using OneHotEncoder"
      ]
    },
    {
      "cell_type": "code",
      "metadata": {
        "id": "rsHmTMsjfEDa"
      },
      "source": [
        "from sklearn.preprocessing import OneHotEncoder\n",
        "from sklearn.compose import ColumnTransformer"
      ],
      "execution_count": null,
      "outputs": []
    },
    {
      "cell_type": "code",
      "metadata": {
        "id": "_1S6YbyyfEDb"
      },
      "source": [
        "from sklearn.model_selection import train_test_split\n",
        "X = df.drop('CO2\\n(Metric Tons)', axis=1)\n",
        "y = df['CO2\\n(Metric Tons)']"
      ],
      "execution_count": null,
      "outputs": []
    },
    {
      "cell_type": "code",
      "metadata": {
        "id": "fbSNQxGvfEDb",
        "outputId": "dfade9f7-327f-4a7c-f431-c6216aa8e5c3"
      },
      "source": [
        "X.head()"
      ],
      "execution_count": null,
      "outputs": [
        {
          "data": {
            "text/html": [
              "<div>\n",
              "<style scoped>\n",
              "    .dataframe tbody tr th:only-of-type {\n",
              "        vertical-align: middle;\n",
              "    }\n",
              "\n",
              "    .dataframe tbody tr th {\n",
              "        vertical-align: top;\n",
              "    }\n",
              "\n",
              "    .dataframe thead th {\n",
              "        text-align: right;\n",
              "    }\n",
              "</style>\n",
              "<table border=\"1\" class=\"dataframe\">\n",
              "  <thead>\n",
              "    <tr style=\"text-align: right;\">\n",
              "      <th></th>\n",
              "      <th>Year</th>\n",
              "      <th>State</th>\n",
              "      <th>Producer Type</th>\n",
              "      <th>Energy Source</th>\n",
              "      <th>SO2\\n(Metric Tons)</th>\n",
              "      <th>NOx\\n(Metric Tons)</th>\n",
              "    </tr>\n",
              "  </thead>\n",
              "  <tbody>\n",
              "    <tr>\n",
              "      <th>0</th>\n",
              "      <td>1990</td>\n",
              "      <td>AK</td>\n",
              "      <td>Commercial Cogen</td>\n",
              "      <td>All Sources</td>\n",
              "      <td>13198</td>\n",
              "      <td>3011</td>\n",
              "    </tr>\n",
              "    <tr>\n",
              "      <th>1</th>\n",
              "      <td>1990</td>\n",
              "      <td>AK</td>\n",
              "      <td>Commercial Cogen</td>\n",
              "      <td>Coal</td>\n",
              "      <td>13191</td>\n",
              "      <td>3009</td>\n",
              "    </tr>\n",
              "    <tr>\n",
              "      <th>2</th>\n",
              "      <td>1990</td>\n",
              "      <td>AK</td>\n",
              "      <td>Commercial Cogen</td>\n",
              "      <td>Petroleum</td>\n",
              "      <td>6</td>\n",
              "      <td>2</td>\n",
              "    </tr>\n",
              "    <tr>\n",
              "      <th>3</th>\n",
              "      <td>1990</td>\n",
              "      <td>AK</td>\n",
              "      <td>Commercial Non-Cogen</td>\n",
              "      <td>All Sources</td>\n",
              "      <td>149</td>\n",
              "      <td>42</td>\n",
              "    </tr>\n",
              "    <tr>\n",
              "      <th>4</th>\n",
              "      <td>1990</td>\n",
              "      <td>AK</td>\n",
              "      <td>Commercial Non-Cogen</td>\n",
              "      <td>Petroleum</td>\n",
              "      <td>149</td>\n",
              "      <td>42</td>\n",
              "    </tr>\n",
              "  </tbody>\n",
              "</table>\n",
              "</div>"
            ],
            "text/plain": [
              "   Year State         Producer Type Energy Source  SO2\\n(Metric Tons)  \\\n",
              "0  1990    AK      Commercial Cogen   All Sources               13198   \n",
              "1  1990    AK      Commercial Cogen          Coal               13191   \n",
              "2  1990    AK      Commercial Cogen     Petroleum                   6   \n",
              "3  1990    AK  Commercial Non-Cogen   All Sources                 149   \n",
              "4  1990    AK  Commercial Non-Cogen     Petroleum                 149   \n",
              "\n",
              "   NOx\\n(Metric Tons)  \n",
              "0                3011  \n",
              "1                3009  \n",
              "2                   2  \n",
              "3                  42  \n",
              "4                  42  "
            ]
          },
          "execution_count": 16,
          "metadata": {},
          "output_type": "execute_result"
        }
      ]
    },
    {
      "cell_type": "code",
      "metadata": {
        "id": "I4sqm-8ffEDb",
        "outputId": "f9b656aa-d083-41b6-c355-9a80742b401c"
      },
      "source": [
        "y.head()"
      ],
      "execution_count": null,
      "outputs": [
        {
          "data": {
            "text/plain": [
              "0    824004\n",
              "1    821929\n",
              "2      2075\n",
              "3         0\n",
              "4         0\n",
              "Name: CO2\\n(Metric Tons), dtype: int64"
            ]
          },
          "execution_count": 17,
          "metadata": {},
          "output_type": "execute_result"
        }
      ]
    },
    {
      "cell_type": "code",
      "metadata": {
        "id": "Z18peak0fEDc",
        "outputId": "557d459d-1730-4966-d5ef-19610aafba5b"
      },
      "source": [
        "Categorical_features = ['State', 'Producer Type', 'Energy Source']\n",
        "one_hot = OneHotEncoder()\n",
        "transformer = ColumnTransformer([(\"One_hot\",\n",
        "                                 one_hot,\n",
        "                                 Categorical_features)],\n",
        "                               remainder = \"passthrough\")\n",
        "\n",
        "transformed_x = transformer.fit_transform(X)\n",
        "transformed_x"
      ],
      "execution_count": null,
      "outputs": [
        {
          "data": {
            "text/plain": [
              "<43258x73 sparse matrix of type '<class 'numpy.float64'>'\n",
              "\twith 247888 stored elements in Compressed Sparse Row format>"
            ]
          },
          "execution_count": 18,
          "metadata": {},
          "output_type": "execute_result"
        }
      ]
    },
    {
      "cell_type": "code",
      "metadata": {
        "id": "hNWj_vd_fEDc"
      },
      "source": [
        "#Split the dataset into train and test data\n",
        "X_train,X_test,y_train,y_test = train_test_split(transformed_x,y, test_size=0.3, random_state=42)"
      ],
      "execution_count": null,
      "outputs": []
    },
    {
      "cell_type": "code",
      "metadata": {
        "id": "UnhpxHxzfEDd",
        "outputId": "11537215-9040-410b-e5f8-2f8c407808d0"
      },
      "source": [
        "X_train.shape,X_test.shape,y_train.shape,y_test.shape"
      ],
      "execution_count": null,
      "outputs": [
        {
          "data": {
            "text/plain": [
              "((30280, 73), (12978, 73), (30280,), (12978,))"
            ]
          },
          "execution_count": 20,
          "metadata": {},
          "output_type": "execute_result"
        }
      ]
    },
    {
      "cell_type": "markdown",
      "metadata": {
        "id": "HqlnlclgfEDd"
      },
      "source": [
        "### Modeling "
      ]
    },
    {
      "cell_type": "code",
      "metadata": {
        "id": "UGx0VITkfEDd"
      },
      "source": [
        "from sklearn.linear_model import LinearRegression\n",
        "from sklearn.ensemble import RandomForestRegressor\n",
        "from sklearn.linear_model import Ridge"
      ],
      "execution_count": null,
      "outputs": []
    },
    {
      "cell_type": "code",
      "metadata": {
        "id": "OGJL3r3OfEDe",
        "outputId": "422a5bd2-740f-4b03-883e-223f5ac8d157"
      },
      "source": [
        "LR_model = LinearRegression()\n",
        "LR_model.fit(X_train,y_train)"
      ],
      "execution_count": null,
      "outputs": [
        {
          "data": {
            "text/plain": [
              "LinearRegression()"
            ]
          },
          "execution_count": 22,
          "metadata": {},
          "output_type": "execute_result"
        }
      ]
    },
    {
      "cell_type": "code",
      "metadata": {
        "id": "YGnJS_BEfEDe",
        "outputId": "a252217c-b39b-4b1d-ebb7-095a86e8b253"
      },
      "source": [
        "LR_model.score(X_test,y_test)"
      ],
      "execution_count": null,
      "outputs": [
        {
          "data": {
            "text/plain": [
              "0.7805936324845153"
            ]
          },
          "execution_count": 23,
          "metadata": {},
          "output_type": "execute_result"
        }
      ]
    },
    {
      "cell_type": "code",
      "metadata": {
        "id": "W8ZosS-1fEDf"
      },
      "source": [
        "y_pred = LR_model.predict(X_test)"
      ],
      "execution_count": null,
      "outputs": []
    },
    {
      "cell_type": "code",
      "metadata": {
        "id": "D0ZMvcX5fEDf",
        "outputId": "4f21c80a-3b30-4cf3-e3bf-e6b828ecbad1"
      },
      "source": [
        "from sklearn.metrics import mean_squared_error, r2_score \n",
        "mae = mean_squared_error(y_test,y_pred)\n",
        "print(mae)"
      ],
      "execution_count": null,
      "outputs": [
        {
          "name": "stdout",
          "output_type": "stream",
          "text": [
            "2436850437429794.0\n"
          ]
        }
      ]
    },
    {
      "cell_type": "code",
      "metadata": {
        "id": "djjQJmrXfEDg",
        "outputId": "1fed9d39-5e96-4b6d-8150-a41216a97837"
      },
      "source": [
        "y_pred"
      ],
      "execution_count": null,
      "outputs": [
        {
          "data": {
            "text/plain": [
              "array([ 1.81999005e+07, -1.08591408e+07,  2.69615574e+09, ...,\n",
              "        4.77238293e+06,  5.11794433e+07,  3.74078529e+07])"
            ]
          },
          "execution_count": 28,
          "metadata": {},
          "output_type": "execute_result"
        }
      ]
    },
    {
      "cell_type": "code",
      "metadata": {
        "id": "0iOPRHk_fEDh",
        "outputId": "dc6e7b95-5bb4-459b-fcf3-058dcecfd428"
      },
      "source": [
        "R2 = r2_score(y_test,y_pred)\n",
        "print(R2)"
      ],
      "execution_count": null,
      "outputs": [
        {
          "name": "stdout",
          "output_type": "stream",
          "text": [
            "0.7805936324845153\n"
          ]
        }
      ]
    },
    {
      "cell_type": "code",
      "metadata": {
        "id": "-O_oKzDBfEDh",
        "outputId": "5f544ccc-c8b5-4663-d9f4-44905ab97e66"
      },
      "source": [
        "RFR = RandomForestRegressor()\n",
        "RFR.fit(X_train,y_train)"
      ],
      "execution_count": null,
      "outputs": [
        {
          "data": {
            "text/plain": [
              "RandomForestRegressor()"
            ]
          },
          "execution_count": 30,
          "metadata": {},
          "output_type": "execute_result"
        }
      ]
    },
    {
      "cell_type": "code",
      "metadata": {
        "id": "sUZFdZ5vfEDi",
        "outputId": "97560f62-b6b9-4fc1-c9e1-94d0497a01e9"
      },
      "source": [
        "y_preds = RFR.predict(X_test)\n",
        "y_preds"
      ],
      "execution_count": null,
      "outputs": [
        {
          "data": {
            "text/plain": [
              "array([3.16836423e+06, 1.34241700e+04, 1.98742664e+09, ...,\n",
              "       9.56322150e+05, 8.83693626e+07, 1.05336646e+08])"
            ]
          },
          "execution_count": 31,
          "metadata": {},
          "output_type": "execute_result"
        }
      ]
    },
    {
      "cell_type": "code",
      "metadata": {
        "id": "QuepOPerfEDi"
      },
      "source": [
        "from sklearn.metrics import mean_squared_error, r2_score\n",
        "mae = mean_squared_error(y_test,y_preds)"
      ],
      "execution_count": null,
      "outputs": []
    },
    {
      "cell_type": "code",
      "metadata": {
        "id": "zfC_DLiAfEDi",
        "outputId": "3f4ff1a2-d964-4cbc-a12e-649d24b8eb2b"
      },
      "source": [
        "print(round(mae, 3))"
      ],
      "execution_count": null,
      "outputs": [
        {
          "name": "stdout",
          "output_type": "stream",
          "text": [
            "138252715114460.62\n"
          ]
        }
      ]
    },
    {
      "cell_type": "code",
      "metadata": {
        "id": "uKI8Y0GRfEDj",
        "outputId": "860bd160-435f-4bda-e784-14c2af0f449a"
      },
      "source": [
        "R2 = r2_score(y_test,y_preds)\n",
        "print(round(R2, 3))"
      ],
      "execution_count": null,
      "outputs": [
        {
          "name": "stdout",
          "output_type": "stream",
          "text": [
            "0.988\n"
          ]
        }
      ]
    },
    {
      "cell_type": "code",
      "metadata": {
        "id": "m8ZuJ7EOfEDj",
        "outputId": "23fbac61-a78c-4e99-e85c-70b9439973a9"
      },
      "source": [
        "ridge_model = Ridge(alpha=0.4)\n",
        "ridge_model.fit(X_train,y_train)"
      ],
      "execution_count": null,
      "outputs": [
        {
          "data": {
            "text/plain": [
              "Ridge(alpha=0.4)"
            ]
          },
          "execution_count": 35,
          "metadata": {},
          "output_type": "execute_result"
        }
      ]
    },
    {
      "cell_type": "code",
      "metadata": {
        "id": "1rXLBDMvfEDk",
        "outputId": "c2463432-d6f0-4e23-e3fd-874f2987c222"
      },
      "source": [
        "y_predss = ridge_model.predict(X_test)\n",
        "y_predss"
      ],
      "execution_count": null,
      "outputs": [
        {
          "data": {
            "text/plain": [
              "array([9.11402528e+06, 3.29214776e+06, 2.75882350e+09, ...,\n",
              "       3.72168273e+06, 4.39757492e+07, 1.94598899e+07])"
            ]
          },
          "execution_count": 36,
          "metadata": {},
          "output_type": "execute_result"
        }
      ]
    },
    {
      "cell_type": "code",
      "metadata": {
        "id": "7oUZ6dbNfEDk",
        "outputId": "5e31a80d-3a70-41b5-fbca-fab31174c2ee"
      },
      "source": [
        "mae = mean_squared_error(y_test,y_predss)\n",
        "mae"
      ],
      "execution_count": null,
      "outputs": [
        {
          "data": {
            "text/plain": [
              "2609094134190977.5"
            ]
          },
          "execution_count": 37,
          "metadata": {},
          "output_type": "execute_result"
        }
      ]
    },
    {
      "cell_type": "code",
      "metadata": {
        "id": "HZ0mXFDZfEDk"
      },
      "source": [
        "R2 = r2_score(y_test,y_predss)"
      ],
      "execution_count": null,
      "outputs": []
    },
    {
      "cell_type": "code",
      "metadata": {
        "id": "xlZBbWGJfEDl",
        "outputId": "26f8f879-efa0-4875-ba72-adb98fd98add"
      },
      "source": [
        "print(round(R2, 3))"
      ],
      "execution_count": null,
      "outputs": [
        {
          "name": "stdout",
          "output_type": "stream",
          "text": [
            "0.765\n"
          ]
        }
      ]
    },
    {
      "cell_type": "code",
      "metadata": {
        "id": "lXxNu0TVfEDl"
      },
      "source": [
        ""
      ],
      "execution_count": null,
      "outputs": []
    }
  ]
}